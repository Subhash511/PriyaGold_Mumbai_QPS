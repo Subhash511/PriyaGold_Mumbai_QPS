{
 "cells": [
  {
   "cell_type": "code",
   "execution_count": 17,
   "id": "e2522bdd",
   "metadata": {},
   "outputs": [],
   "source": [
    "import pandas as pd\n",
    "import json"
   ]
  },
  {
   "cell_type": "code",
   "execution_count": 18,
   "id": "5f52acb5",
   "metadata": {},
   "outputs": [],
   "source": [
    "file = \"bis\"\n",
    "# Load your CSV\n",
    "df = pd.read_excel(f\"data/{file}.xlsx\",sheet_name='data')"
   ]
  },
  {
   "cell_type": "code",
   "execution_count": 19,
   "id": "0fe0f6e3",
   "metadata": {},
   "outputs": [],
   "source": [
    "df.rename(columns={'Whole_Saler':'A'},inplace=True)"
   ]
  },
  {
   "cell_type": "code",
   "execution_count": 20,
   "id": "9a5d142b",
   "metadata": {},
   "outputs": [],
   "source": [
    "df['Name_of_Route'] = df['Name_of_Route'].fillna('N/A').astype(str)\n",
    "df['TGT1'] = df['TGT'].fillna(0)\n",
    "df['TGT'] = df['TGT'].astype(str)"
   ]
  },
  {
   "cell_type": "code",
   "execution_count": 21,
   "id": "7364f64a",
   "metadata": {},
   "outputs": [],
   "source": [
    "df['Whole_Saler'] = df[\"A\"]+\"_( \"+df[\"Name_of_Route\"] + \" )\" + \"| Target = \" +df['TGT']+ \" |\""
   ]
  },
  {
   "cell_type": "code",
   "execution_count": 22,
   "id": "999876fa",
   "metadata": {},
   "outputs": [],
   "source": [
    "df.sort_values(by=['State','Name_of_SS','Name_of_DB'],inplace=True)"
   ]
  },
  {
   "cell_type": "code",
   "execution_count": 23,
   "id": "d4177a84",
   "metadata": {},
   "outputs": [
    {
     "data": {
      "text/html": [
       "<div>\n",
       "<style scoped>\n",
       "    .dataframe tbody tr th:only-of-type {\n",
       "        vertical-align: middle;\n",
       "    }\n",
       "\n",
       "    .dataframe tbody tr th {\n",
       "        vertical-align: top;\n",
       "    }\n",
       "\n",
       "    .dataframe thead th {\n",
       "        text-align: right;\n",
       "    }\n",
       "</style>\n",
       "<table border=\"1\" class=\"dataframe\">\n",
       "  <thead>\n",
       "    <tr style=\"text-align: right;\">\n",
       "      <th></th>\n",
       "      <th>State</th>\n",
       "      <th>Id</th>\n",
       "      <th>Name_of_SS</th>\n",
       "      <th>db_id</th>\n",
       "      <th>Name_of_DB</th>\n",
       "      <th>A</th>\n",
       "      <th>Name_of_Route</th>\n",
       "      <th>AVG_BIS</th>\n",
       "      <th>TGT</th>\n",
       "      <th>Password</th>\n",
       "      <th>check</th>\n",
       "      <th>TGT1</th>\n",
       "      <th>Whole_Saler</th>\n",
       "    </tr>\n",
       "  </thead>\n",
       "  <tbody>\n",
       "    <tr>\n",
       "      <th>967</th>\n",
       "      <td>Mumbai</td>\n",
       "      <td>968</td>\n",
       "      <td>J K BROTHERS</td>\n",
       "      <td>54</td>\n",
       "      <td>BALWANT &amp; CO</td>\n",
       "      <td>JANTA WHOLESALE</td>\n",
       "      <td>SANGAM NAGAR</td>\n",
       "      <td>10</td>\n",
       "      <td>10</td>\n",
       "      <td>5694</td>\n",
       "      <td>JANTA WHOLESALE_SANGAM NAGAR</td>\n",
       "      <td>10</td>\n",
       "      <td>JANTA WHOLESALE_( SANGAM NAGAR )| Target = 10 |</td>\n",
       "    </tr>\n",
       "    <tr>\n",
       "      <th>968</th>\n",
       "      <td>Mumbai</td>\n",
       "      <td>969</td>\n",
       "      <td>J K BROTHERS</td>\n",
       "      <td>54</td>\n",
       "      <td>BALWANT &amp; CO</td>\n",
       "      <td>POOJA WHOLESALE</td>\n",
       "      <td>SANGAM NAGAR</td>\n",
       "      <td>10</td>\n",
       "      <td>10</td>\n",
       "      <td>5694</td>\n",
       "      <td>POOJA WHOLESALE_SANGAM NAGAR</td>\n",
       "      <td>10</td>\n",
       "      <td>POOJA WHOLESALE_( SANGAM NAGAR )| Target = 10 |</td>\n",
       "    </tr>\n",
       "    <tr>\n",
       "      <th>969</th>\n",
       "      <td>Mumbai</td>\n",
       "      <td>970</td>\n",
       "      <td>J K BROTHERS</td>\n",
       "      <td>54</td>\n",
       "      <td>BALWANT &amp; CO</td>\n",
       "      <td>SHITLA MATA</td>\n",
       "      <td>GTB NAGAR</td>\n",
       "      <td>10</td>\n",
       "      <td>10</td>\n",
       "      <td>5694</td>\n",
       "      <td>SHITLA MATA_GTB NAGAR</td>\n",
       "      <td>10</td>\n",
       "      <td>SHITLA MATA_( GTB NAGAR )| Target = 10 |</td>\n",
       "    </tr>\n",
       "    <tr>\n",
       "      <th>970</th>\n",
       "      <td>Mumbai</td>\n",
       "      <td>971</td>\n",
       "      <td>J K BROTHERS</td>\n",
       "      <td>54</td>\n",
       "      <td>BALWANT &amp; CO</td>\n",
       "      <td>P. JAISWAL</td>\n",
       "      <td>WADALA</td>\n",
       "      <td>10</td>\n",
       "      <td>10</td>\n",
       "      <td>5694</td>\n",
       "      <td>P. JAISWAL_WADALA</td>\n",
       "      <td>10</td>\n",
       "      <td>P. JAISWAL_( WADALA )| Target = 10 |</td>\n",
       "    </tr>\n",
       "    <tr>\n",
       "      <th>971</th>\n",
       "      <td>Mumbai</td>\n",
       "      <td>972</td>\n",
       "      <td>J K BROTHERS</td>\n",
       "      <td>54</td>\n",
       "      <td>BALWANT &amp; CO</td>\n",
       "      <td>MUKESH SOLANKI</td>\n",
       "      <td>WADALA</td>\n",
       "      <td>10</td>\n",
       "      <td>10</td>\n",
       "      <td>5694</td>\n",
       "      <td>MUKESH SOLANKI_WADALA</td>\n",
       "      <td>10</td>\n",
       "      <td>MUKESH SOLANKI_( WADALA )| Target = 10 |</td>\n",
       "    </tr>\n",
       "  </tbody>\n",
       "</table>\n",
       "</div>"
      ],
      "text/plain": [
       "      State   Id    Name_of_SS  db_id    Name_of_DB                A  \\\n",
       "967  Mumbai  968  J K BROTHERS     54  BALWANT & CO  JANTA WHOLESALE   \n",
       "968  Mumbai  969  J K BROTHERS     54  BALWANT & CO  POOJA WHOLESALE   \n",
       "969  Mumbai  970  J K BROTHERS     54  BALWANT & CO      SHITLA MATA   \n",
       "970  Mumbai  971  J K BROTHERS     54  BALWANT & CO       P. JAISWAL   \n",
       "971  Mumbai  972  J K BROTHERS     54  BALWANT & CO   MUKESH SOLANKI   \n",
       "\n",
       "    Name_of_Route  AVG_BIS TGT  Password                         check  TGT1  \\\n",
       "967  SANGAM NAGAR       10  10      5694  JANTA WHOLESALE_SANGAM NAGAR    10   \n",
       "968  SANGAM NAGAR       10  10      5694  POOJA WHOLESALE_SANGAM NAGAR    10   \n",
       "969     GTB NAGAR       10  10      5694         SHITLA MATA_GTB NAGAR    10   \n",
       "970        WADALA       10  10      5694             P. JAISWAL_WADALA    10   \n",
       "971        WADALA       10  10      5694         MUKESH SOLANKI_WADALA    10   \n",
       "\n",
       "                                         Whole_Saler  \n",
       "967  JANTA WHOLESALE_( SANGAM NAGAR )| Target = 10 |  \n",
       "968  POOJA WHOLESALE_( SANGAM NAGAR )| Target = 10 |  \n",
       "969         SHITLA MATA_( GTB NAGAR )| Target = 10 |  \n",
       "970             P. JAISWAL_( WADALA )| Target = 10 |  \n",
       "971         MUKESH SOLANKI_( WADALA )| Target = 10 |  "
      ]
     },
     "execution_count": 23,
     "metadata": {},
     "output_type": "execute_result"
    }
   ],
   "source": [
    "df.head(5)"
   ]
  },
  {
   "cell_type": "code",
   "execution_count": 24,
   "id": "74087e48",
   "metadata": {},
   "outputs": [],
   "source": [
    "\n",
    "# Create nested dictionary with password at DB level\n",
    "nested = {}\n",
    "\n",
    "for _, row in df.iterrows():\n",
    "    state = row['State']\n",
    "    ss = row['Name_of_SS']\n",
    "    db = row['Name_of_DB']\n",
    "    ws = row['Whole_Saler'] # Whole_Saler\n",
    "    pwd = row['Password']\n",
    "\n",
    "    state_dict = nested.setdefault(state, {})\n",
    "    ss_dict = state_dict.setdefault(ss, {})\n",
    "    db_dict = ss_dict.setdefault(db, {\"password\": pwd, \"wholesalers\": []})\n",
    "\n",
    "    db_dict[\"wholesalers\"].append(ws)\n",
    "\n",
    "# Save\n",
    "with open(f\"data/{file}.json\", \"w\") as f:\n",
    "    json.dump(nested, f, indent=4)\n"
   ]
  },
  {
   "cell_type": "code",
   "execution_count": null,
   "id": "81ab09ea",
   "metadata": {},
   "outputs": [],
   "source": []
  }
 ],
 "metadata": {
  "kernelspec": {
   "display_name": "Python 3",
   "language": "python",
   "name": "python3"
  },
  "language_info": {
   "codemirror_mode": {
    "name": "ipython",
    "version": 3
   },
   "file_extension": ".py",
   "mimetype": "text/x-python",
   "name": "python",
   "nbconvert_exporter": "python",
   "pygments_lexer": "ipython3",
   "version": "3.13.3"
  }
 },
 "nbformat": 4,
 "nbformat_minor": 5
}
